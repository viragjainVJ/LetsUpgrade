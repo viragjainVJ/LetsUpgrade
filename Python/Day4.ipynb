{
 "cells": [
  {
   "cell_type": "markdown",
   "metadata": {},
   "source": [
    "## While Loops"
   ]
  },
  {
   "cell_type": "code",
   "execution_count": 1,
   "metadata": {},
   "outputs": [
    {
     "name": "stdout",
     "output_type": "stream",
     "text": [
      "Value  1\n",
      "Value  2\n",
      "Value  3\n",
      "Value  4\n",
      "Value  5\n",
      "Value  6\n",
      "Value  7\n",
      "Value  8\n",
      "Value  9\n"
     ]
    }
   ],
   "source": [
    "i = 1\n",
    "while(i<10):\n",
    "    print('Value ',i)\n",
    "    i+=1"
   ]
  },
  {
   "cell_type": "code",
   "execution_count": 2,
   "metadata": {},
   "outputs": [],
   "source": [
    "#Break, Pass and Continue"
   ]
  },
  {
   "cell_type": "code",
   "execution_count": 3,
   "metadata": {},
   "outputs": [
    {
     "name": "stdout",
     "output_type": "stream",
     "text": [
      "Whats Your thought about Application (y/n) n\n",
      "Whats Your thought about Application (y/n) t\n",
      "Whats Your thought about Application (y/n) r\n",
      "Whats Your thought about Application (y/n) e\n",
      "Whats Your thought about Application (y/n) w\n",
      "Whats Your thought about Application (y/n) y\n",
      "Your Application is Approved!!!\n"
     ]
    }
   ],
   "source": [
    "char = \"n\"\n",
    "\n",
    "while char.lower() != 'y':\n",
    "    char = input('Whats Your thought about Application (y/n) ')\n",
    "else:\n",
    "    print(\"Your Application is Approved!!!\")"
   ]
  },
  {
   "cell_type": "code",
   "execution_count": 4,
   "metadata": {},
   "outputs": [
    {
     "name": "stdout",
     "output_type": "stream",
     "text": [
      "1\n",
      "2\n",
      "3\n",
      "4\n",
      "5\n"
     ]
    }
   ],
   "source": [
    "for i in range(1,10):\n",
    "    print(i)\n",
    "    if i == 5:\n",
    "        break"
   ]
  },
  {
   "cell_type": "code",
   "execution_count": 1,
   "metadata": {},
   "outputs": [
    {
     "name": "stdout",
     "output_type": "stream",
     "text": [
      "1\n",
      "Lets Learn Python with  1\n",
      "2\n",
      "Lets Learn Python with  2\n",
      "3\n",
      "Lets Learn Python with  3\n",
      "4\n",
      "Lets Learn Python with  4\n",
      "5\n",
      "6\n",
      "Lets Learn Python with  6\n",
      "7\n",
      "8\n",
      "Lets Learn Python with  8\n",
      "9\n",
      "Lets Learn Python with  9\n"
     ]
    }
   ],
   "source": [
    "for i in range(1,10):\n",
    "    print(i)\n",
    "    if i == 5 or i == 7:\n",
    "        continue\n",
    "    print('Lets Learn Python with ', i)"
   ]
  },
  {
   "cell_type": "code",
   "execution_count": null,
   "metadata": {},
   "outputs": [],
   "source": [
    "i = 10\n",
    "while i < 100:\n",
    "    print(i)\n",
    "    pass"
   ]
  },
  {
   "cell_type": "markdown",
   "metadata": {},
   "source": [
    "## File Handling"
   ]
  },
  {
   "cell_type": "code",
   "execution_count": null,
   "metadata": {},
   "outputs": [],
   "source": [
    "#Creation of file\n",
    "#Opening an exisiting file\n",
    "#Reading Data from a file\n",
    "#Writing Data in a file\n",
    "#Closing a file"
   ]
  },
  {
   "cell_type": "code",
   "execution_count": 2,
   "metadata": {},
   "outputs": [],
   "source": [
    "file = open(\"codificar.txt\", \"w\")\n",
    "file.write(\"Hey I am Learning Python and we will meet soon\")\n",
    "file.close()"
   ]
  },
  {
   "cell_type": "code",
   "execution_count": 5,
   "metadata": {},
   "outputs": [
    {
     "name": "stdout",
     "output_type": "stream",
     "text": [
      "Hey I am Learning Python and we will meet soon\n",
      " Rate Today Learning as comapred to previous one.\n"
     ]
    }
   ],
   "source": [
    "#Read File\n",
    "file = open(\"codificar.txt\", 'r')\n",
    "fileData = file.read()\n",
    "print(fileData)\n",
    "file.close()"
   ]
  },
  {
   "cell_type": "code",
   "execution_count": 4,
   "metadata": {},
   "outputs": [],
   "source": [
    "#Lets Append data in File\n",
    "file = open(\"codificar.txt\", 'a')\n",
    "file.write(\"\\n Rate Today Learning as comapred to previous one.\")\n",
    "file.close()"
   ]
  },
  {
   "cell_type": "code",
   "execution_count": 6,
   "metadata": {},
   "outputs": [],
   "source": [
    "#For reading and writing a file\n",
    "file = open(\"codificar.txt\", 'r+')\n",
    "file.write('Hello Guys')\n",
    "file.close()\n",
    "#It override the file"
   ]
  },
  {
   "cell_type": "code",
   "execution_count": 16,
   "metadata": {},
   "outputs": [
    {
     "name": "stdout",
     "output_type": "stream",
     "text": [
      "153\n",
      "153\n"
     ]
    }
   ],
   "source": [
    "for num in range(1042000,702648265 + 1):\n",
    "    sum = 0\n",
    "#     print(num)\n",
    "    temp = num\n",
    "    while temp > 0 :\n",
    "        digit = temp%10\n",
    "        sum += digit ** 3\n",
    "        temp //= 10\n",
    "#         print(temp)\n",
    "#     print(num, sum)\n",
    "    if(num == sum):\n",
    "        print(num)\n",
    "    "
   ]
  },
  {
   "cell_type": "code",
   "execution_count": null,
   "metadata": {},
   "outputs": [],
   "source": []
  }
 ],
 "metadata": {
  "kernelspec": {
   "display_name": "Python 3",
   "language": "python",
   "name": "python3"
  }
 },
 "nbformat": 4,
 "nbformat_minor": 4
}
