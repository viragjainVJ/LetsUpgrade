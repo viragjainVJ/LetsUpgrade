{
 "cells": [
  {
   "cell_type": "markdown",
   "metadata": {},
   "source": [
    "## Armstrong Number"
   ]
  },
  {
   "cell_type": "code",
   "execution_count": null,
   "metadata": {},
   "outputs": [],
   "source": [
    "for num in range(1042000,702648265 + 1):\n",
    "    sum = 0\n",
    "#     print(num)\n",
    "    temp = num\n",
    "    while temp > 0 :\n",
    "        digit = temp%10\n",
    "        sum += digit ** 3\n",
    "        temp //= 10\n",
    "#         print(temp)\n",
    "#     print(num, sum)\n",
    "    if(num == sum):\n",
    "        print(num)"
   ]
  }
 ],
 "metadata": {
  "kernelspec": {
   "display_name": "Python 3",
   "language": "python",
   "name": "python3"
  },
  "language_info": {
   "codemirror_mode": {
    "name": "ipython",
    "version": 3
   },
   "file_extension": ".py",
   "mimetype": "text/x-python",
   "name": "python",
   "nbconvert_exporter": "python",
   "pygments_lexer": "ipython3",
   "version": "3.8.3"
  }
 },
 "nbformat": 4,
 "nbformat_minor": 4
}
